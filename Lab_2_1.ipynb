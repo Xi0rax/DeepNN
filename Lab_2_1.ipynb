{
 "cells": [
  {
   "cell_type": "markdown",
   "id": "bebbe221-3956-4efd-bda3-ab11f8d7213f",
   "metadata": {
    "tags": []
   },
   "source": [
    "# Лабораторная работа 2.1. Градиентный спуск"
   ]
  },
  {
   "cell_type": "markdown",
   "id": "109f7b90-c692-4023-897d-ab135432d8ad",
   "metadata": {},
   "source": [
    "**Задание:** реализовать стохастический градиентный спуск для обучения перцептрона"
   ]
  },
  {
   "cell_type": "markdown",
   "id": "2da5703c-e223-4378-96c5-41abed8515ed",
   "metadata": {},
   "source": [
    "Загрузка модулей"
   ]
  },
  {
   "cell_type": "code",
   "execution_count": 10,
   "id": "18ce7487-9b6e-4fde-a96b-97f47fc86eaa",
   "metadata": {
    "tags": []
   },
   "outputs": [],
   "source": [
    "import numpy as np\n",
    "import matplotlib.pyplot as plt\n",
    "import pandas as pd\n",
    "import random\n",
    "import math"
   ]
  },
  {
   "cell_type": "markdown",
   "id": "f69f9786-2f1e-4198-bba2-75c27f1f005f",
   "metadata": {},
   "source": [
    "Загрузка данных"
   ]
  },
  {
   "cell_type": "code",
   "execution_count": 3,
   "id": "fcedc095-bebf-4636-a4ce-b3019534dc7b",
   "metadata": {
    "tags": []
   },
   "outputs": [],
   "source": [
    "df = pd.read_csv('data.csv')\n",
    "# возьмем перые 100 строк, 4-й столбец \n",
    "y = df.iloc[0:100, 4].values\n",
    "# так как ответы у нас строки - нужно перейти к численным значениям\n",
    "y = np.where(y == \"Iris-setosa\", 1, 0).reshape(-1,1) # reshape нужен для матричных операций\n",
    "\n",
    "# 4 признака\n",
    "X = df.iloc[0:100, [0, 2]].values\n",
    "\n",
    "# добавим фиктивный признак для удобства матричных вычислений\n",
    "X = np.concatenate([np.ones((len(X),1)), X], axis = 1)"
   ]
  },
  {
   "cell_type": "markdown",
   "id": "5e8be06d-0f36-482b-b466-7e4a895cf969",
   "metadata": {},
   "source": [
    "Функции"
   ]
  },
  {
   "cell_type": "code",
   "execution_count": 4,
   "id": "e1ff40fb-701a-466e-8a39-4075ebcfcde5",
   "metadata": {
    "tags": []
   },
   "outputs": [],
   "source": [
    "# зададим функцию активации - сигмоида\n",
    "def sigmoid(y):\n",
    "    return 1 / (1 + np.exp(-y))\n",
    "\n",
    "# нам понадобится производная от сигмоиды при вычислении градиента\n",
    "def derivative_sigmoid(y):\n",
    "    return sigmoid(y) * (1 - sigmoid(y))"
   ]
  },
  {
   "cell_type": "markdown",
   "id": "f39d1c3b-cb77-446e-ac7e-80a7383127ca",
   "metadata": {},
   "source": [
    "Нейронная сеть"
   ]
  },
  {
   "cell_type": "code",
   "execution_count": 5,
   "id": "243f6984-8cab-4f52-9ad6-cc4ff1d4993c",
   "metadata": {
    "tags": []
   },
   "outputs": [],
   "source": [
    "# инициализируем нейронную сеть \n",
    "inputSize = X.shape[1] # количество входных сигналов равно количеству признаков задачи \n",
    "hiddenSizes = 5 # задаем число нейронов скрытого слоя \n",
    "outputSize = 1 if len(y.shape) else y.shape[1] # количество выходных сигналов равно количеству классов задачи\n",
    "\n",
    "# веса инициализируем случайными числами, но теперь будем хранить их списком\n",
    "weights = [\n",
    "    np.random.uniform(-2, 2, size=(inputSize,hiddenSizes)),  # веса скрытого слоя\n",
    "    np.random.uniform(-2, 2, size=(hiddenSizes,outputSize))  # веса выходного слоя\n",
    "]"
   ]
  },
  {
   "cell_type": "markdown",
   "id": "9516b771-314a-4474-ae87-6b0dee3150ef",
   "metadata": {},
   "source": [
    "## Обучение"
   ]
  },
  {
   "cell_type": "markdown",
   "id": "a132d882-0a28-4b5e-8dc9-2a1e448cc6a5",
   "metadata": {},
   "source": [
    "Прямой проход"
   ]
  },
  {
   "cell_type": "code",
   "execution_count": 6,
   "id": "78cb6dc3-d681-4f22-80f2-f50475b5ca07",
   "metadata": {
    "tags": []
   },
   "outputs": [],
   "source": [
    "def feed_forward(x):\n",
    "    input_ = x # входные сигналы\n",
    "    hidden_ = sigmoid(np.dot(input_, weights[0])) # выход скрытого слоя = сигмоида(входные сигналы*веса скрытого слоя)\n",
    "    output_ = sigmoid(np.dot(hidden_, weights[1]))# выход сети (последнего слоя) = сигмоида(выход скрытого слоя*веса выходного слоя)\n",
    "\n",
    "    # возвращаем все выходы, они нам понадобятся при обратном проходе\n",
    "    return [input_, hidden_, output_]"
   ]
  },
  {
   "cell_type": "markdown",
   "id": "8d4c8ae0-be20-4c8d-a4fc-80f2b795a229",
   "metadata": {},
   "source": [
    "Обратный проход"
   ]
  },
  {
   "cell_type": "code",
   "execution_count": 11,
   "id": "db722b03-d97f-414b-a397-b7a6d80a6a31",
   "metadata": {
    "tags": []
   },
   "outputs": [],
   "source": [
    "def backward(learning_rate, target, net_output, layers):\n",
    "\n",
    "    # считаем производную ошибки сети\n",
    "    err = (target - net_output)\n",
    "\n",
    "    # прогоняем производную ошибки обратно ко входу, считая градиенты и корректируя веса\n",
    "    # для этого используем chain rule\n",
    "    # цикл перебирает слои от последнего к первому\n",
    "    for i in range(len(layers)-1, 0, -1):\n",
    "        # градиент слоя = ошибка слоя * производную функции активации * на входные сигналы слоя\n",
    "        \n",
    "        # ошибка слоя * производную функции активации\n",
    "        err_delta = err * derivative_sigmoid(layers[i])       \n",
    "        \n",
    "        # пробрасываем ошибку на предыдущий слой\n",
    "        err = np.dot(err_delta, weights[i - 1].T)\n",
    "        \n",
    "        # ошибка слоя * производную функции активации * на входные сигналы слоя\n",
    "        dw = np.dot(layers[i - 1].T, err_delta)\n",
    "        \n",
    "        # обновляем веса слоя\n",
    "        weights[i - 1] += learning_rate * dw"
   ]
  },
  {
   "cell_type": "markdown",
   "id": "97c125f1-5d47-4c78-9772-05b6ce557708",
   "metadata": {},
   "source": [
    "Функция обучения (GD)"
   ]
  },
  {
   "cell_type": "code",
   "execution_count": 66,
   "id": "bdf5d91e-625f-4217-bd0a-7628dd5e85b4",
   "metadata": {
    "tags": []
   },
   "outputs": [],
   "source": [
    "def train(x_values, target, learning_rate):\n",
    "    output = feed_forward(x_values)\n",
    "    backward(learning_rate, target, output[2], output)\n",
    "    return None"
   ]
  },
  {
   "cell_type": "markdown",
   "id": "a1c61e17-48ff-4a8e-8a40-ec5153779b88",
   "metadata": {
    "tags": []
   },
   "source": [
    "Функция обучения (SGD)"
   ]
  },
  {
   "cell_type": "code",
   "execution_count": 28,
   "id": "a92a860d-9d99-4727-8ebe-6a436ec9077d",
   "metadata": {
    "tags": []
   },
   "outputs": [],
   "source": [
    "def train(x_values, target, learning_rate, batch_size):\n",
    "    # Проходим по обучающим примерам пакетами размера batch_size\n",
    "    for _ in range(0, len(x_values), batch_size):\n",
    "        # Берем случайную строку из выборки\n",
    "        j = random.randint(0, len(x_values) - batch_size)\n",
    "        x_batch = x_values[j:j + batch_size]\n",
    "        target_batch = target[j:j + batch_size]\n",
    "        for x, t in zip(x_batch, target_batch):\n",
    "            output = feed_forward(x_values)\n",
    "            backward(learning_rate, target, output[2], output)\n",
    "    return None"
   ]
  },
  {
   "cell_type": "markdown",
   "id": "e0eacc25-45a1-4dbd-b5e7-40e1aed93f79",
   "metadata": {},
   "source": [
    "Функция предсказания"
   ]
  },
  {
   "cell_type": "code",
   "execution_count": 13,
   "id": "0a933ff5-cb13-4cd9-bdef-28b02986fbd4",
   "metadata": {
    "tags": []
   },
   "outputs": [],
   "source": [
    "def predict(x_values):\n",
    "    return feed_forward(x_values)[-1]"
   ]
  },
  {
   "cell_type": "markdown",
   "id": "f5946233-a88c-4f3c-a645-7874db46cdf9",
   "metadata": {},
   "source": [
    "Параметры обучения"
   ]
  },
  {
   "cell_type": "code",
   "execution_count": 14,
   "id": "c422d412-ecb2-4f0a-b91b-a8eb109ace29",
   "metadata": {
    "tags": []
   },
   "outputs": [],
   "source": [
    "iterations = 50\n",
    "learning_rate = 0.01\n",
    "batch_size = 20"
   ]
  },
  {
   "cell_type": "markdown",
   "id": "aa12ba5c-74ae-4562-8fec-6105a73c1c6c",
   "metadata": {},
   "source": [
    "### Стохастический градиентный спуск (SGD)"
   ]
  },
  {
   "cell_type": "markdown",
   "id": "08754ad9-d973-439d-bc52-12033aa76622",
   "metadata": {},
   "source": [
    "Процесс обучения"
   ]
  },
  {
   "cell_type": "code",
   "execution_count": 27,
   "id": "1960dd83-4c28-4496-bef9-1f172cb3461f",
   "metadata": {
    "tags": []
   },
   "outputs": [
    {
     "name": "stdout",
     "output_type": "stream",
     "text": [
      "На итерации: 0 || Средняя ошибка: 0.007147102716532604\n",
      "На итерации: 10 || Средняя ошибка: 0.006813981546691193\n",
      "На итерации: 20 || Средняя ошибка: 0.004552515295776031\n",
      "На итерации: 30 || Средняя ошибка: 0.003071970708563571\n",
      "На итерации: 40 || Средняя ошибка: 0.0023234335701974155\n"
     ]
    }
   ],
   "source": [
    "for i in range(iterations):\n",
    "    train(X, y, learning_rate, batch_size)\n",
    "\n",
    "    if i % 10 == 0:\n",
    "        print(\"На итерации: \" + str(i) + ' || ' + \"Средняя ошибка: \" + str(np.mean(np.square(y - predict(X)))))"
   ]
  },
  {
   "cell_type": "markdown",
   "id": "157a64da-3e64-4c65-a38a-3b3f0047791c",
   "metadata": {},
   "source": [
    "Проверка"
   ]
  },
  {
   "cell_type": "code",
   "execution_count": 65,
   "id": "fd5fb49f-c9de-439f-a0de-0a8c1f709164",
   "metadata": {
    "tags": []
   },
   "outputs": [
    {
     "name": "stdout",
     "output_type": "stream",
     "text": [
      "[0]\n"
     ]
    }
   ],
   "source": [
    "y = df.iloc[:, 4].values\n",
    "y = np.where(y == \"Iris-setosa\", 1, 0).reshape(-1,1) \n",
    "X = df.iloc[:, [0, 1, 2, 3]].values\n",
    "X = np.concatenate([np.ones((len(X),1)), X], axis = 1)\n",
    "\n",
    "pr = predict(X)\n",
    "print(sum(abs(y-(pr>0.5))))"
   ]
  },
  {
   "cell_type": "markdown",
   "id": "4250598e-4c6b-4ea1-a5e7-f33b5ee95591",
   "metadata": {},
   "source": [
    "### Градиентный спуск (GD)"
   ]
  },
  {
   "cell_type": "markdown",
   "id": "40b67f73-fb6a-4a84-b531-8d698da1cdf3",
   "metadata": {},
   "source": [
    "Процесс обучения"
   ]
  },
  {
   "cell_type": "code",
   "execution_count": 69,
   "id": "121325b5-f990-4788-bb10-04248c0d2aef",
   "metadata": {
    "tags": []
   },
   "outputs": [
    {
     "name": "stdout",
     "output_type": "stream",
     "text": [
      "На итерации: 0 || Средняя ошибка: 0.17440694424197442\n",
      "На итерации: 10 || Средняя ошибка: 0.09289182754148952\n",
      "На итерации: 20 || Средняя ошибка: 0.03973627776327537\n",
      "На итерации: 30 || Средняя ошибка: 0.01890592365336644\n",
      "На итерации: 40 || Средняя ошибка: 0.011229738115680371\n"
     ]
    }
   ],
   "source": [
    "for i in range(iterations):\n",
    "    train(X, y, learning_rate)\n",
    "\n",
    "    if i % 10 == 0:\n",
    "        print(\"На итерации: \" + str(i) + ' || ' + \"Средняя ошибка: \" + str(np.mean(np.square(y - predict(X)))))"
   ]
  },
  {
   "cell_type": "markdown",
   "id": "4a991041-dcbe-4d30-aee9-3b3d14fd9775",
   "metadata": {
    "tags": []
   },
   "source": [
    "Проверка"
   ]
  },
  {
   "cell_type": "code",
   "execution_count": 70,
   "id": "5aefcea1-edbe-4424-9cae-cfc1e5804eef",
   "metadata": {
    "tags": []
   },
   "outputs": [
    {
     "name": "stdout",
     "output_type": "stream",
     "text": [
      "[0]\n"
     ]
    }
   ],
   "source": [
    "y = df.iloc[:, 4].values\n",
    "y = np.where(y == \"Iris-setosa\", 1, 0).reshape(-1,1) \n",
    "X = df.iloc[:, [0, 2]].values\n",
    "X = np.concatenate([np.ones((len(X),1)), X], axis = 1)\n",
    "\n",
    "pr = predict(X)\n",
    "print(sum(abs(y-(pr>0.5))))"
   ]
  },
  {
   "cell_type": "code",
   "execution_count": null,
   "id": "21310aae-97fe-4e07-92a9-62d16d24331f",
   "metadata": {},
   "outputs": [],
   "source": [
    "random.randint(0, range)"
   ]
  },
  {
   "cell_type": "code",
   "execution_count": 9,
   "id": "2c798fb8-c851-47f0-89ee-1db23e9c6ee3",
   "metadata": {
    "tags": []
   },
   "outputs": [
    {
     "data": {
      "text/plain": [
       "100"
      ]
     },
     "execution_count": 9,
     "metadata": {},
     "output_type": "execute_result"
    }
   ],
   "source": [
    "len(X)"
   ]
  },
  {
   "cell_type": "code",
   "execution_count": null,
   "id": "2ba5e621-c18c-40fe-9a47-3d64b5eb81bc",
   "metadata": {},
   "outputs": [],
   "source": []
  }
 ],
 "metadata": {
  "kernelspec": {
   "display_name": "Python 3 (ipykernel)",
   "language": "python",
   "name": "python3"
  },
  "language_info": {
   "codemirror_mode": {
    "name": "ipython",
    "version": 3
   },
   "file_extension": ".py",
   "mimetype": "text/x-python",
   "name": "python",
   "nbconvert_exporter": "python",
   "pygments_lexer": "ipython3",
   "version": "3.10.10"
  }
 },
 "nbformat": 4,
 "nbformat_minor": 5
}
