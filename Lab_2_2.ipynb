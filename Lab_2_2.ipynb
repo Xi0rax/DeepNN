{
 "cells": [
  {
   "cell_type": "markdown",
   "id": "36690ca7-54a5-49d7-841f-449f68671a1d",
   "metadata": {
    "tags": []
   },
   "source": [
    "# Лабораторная работа 2.2. Градиентный спуск"
   ]
  },
  {
   "cell_type": "markdown",
   "id": "9a200292-732f-4f15-ae18-6c6d1c543c68",
   "metadata": {},
   "source": [
    "**Задание:** реализовать нейронную сеть для классификации ирисов по 3 классам с использованием всех 4 параметров"
   ]
  },
  {
   "cell_type": "code",
   "execution_count": 5,
   "id": "f2bcdebf-77ec-4028-a885-933ae060190e",
   "metadata": {
    "tags": []
   },
   "outputs": [],
   "source": [
    "import numpy as np\n",
    "from sklearn.model_selection import train_test_split\n",
    "from sklearn.preprocessing import StandardScaler\n",
    "from sklearn.metrics import accuracy_score\n",
    "import pandas as pd"
   ]
  },
  {
   "cell_type": "markdown",
   "id": "db6b9d7a-82cd-4fe1-ac7c-86b119261957",
   "metadata": {},
   "source": [
    "Загрузка данных"
   ]
  },
  {
   "cell_type": "code",
   "execution_count": 6,
   "id": "2f4f72e1-9caf-463f-ae7d-a29b3e650851",
   "metadata": {
    "tags": []
   },
   "outputs": [],
   "source": [
    "# Загрузка датасета Iris\n",
    "df = pd.read_csv('data.csv')\n",
    "X = df.iloc[:,:4]\n",
    "y = df.iloc[:,4].replace({'Iris-setosa': 0, 'Iris-versicolor': 1, 'Iris-virginica': 2})"
   ]
  },
  {
   "cell_type": "markdown",
   "id": "cc4f38a8-4094-4675-ba8c-2897bfea69b5",
   "metadata": {},
   "source": [
    "Преобразование меток классов в one-hot encoding"
   ]
  },
  {
   "cell_type": "code",
   "execution_count": 7,
   "id": "4573bc64-1a82-45ae-94ba-d9b993a7ba05",
   "metadata": {
    "tags": []
   },
   "outputs": [],
   "source": [
    "num_classes = 3\n",
    "y_one_hot = np.eye(num_classes)[y]\n",
    "\n",
    "# Разделение данных на обучающий и тестовый наборы\n",
    "X_train, X_test, y_train, y_test = train_test_split(X, y_one_hot, test_size=0.2, random_state=42)"
   ]
  },
  {
   "cell_type": "markdown",
   "id": "6fa6768f-8f23-4a4b-9256-331500ec25ad",
   "metadata": {},
   "source": [
    "Нормализация данных"
   ]
  },
  {
   "cell_type": "code",
   "execution_count": 8,
   "id": "3a1a69d2-8a03-48e0-98a6-4005cc8911d3",
   "metadata": {
    "tags": []
   },
   "outputs": [],
   "source": [
    "scaler = StandardScaler()\n",
    "X_train = scaler.fit_transform(X_train)\n",
    "X_test = scaler.transform(X_test)"
   ]
  },
  {
   "cell_type": "code",
   "execution_count": 14,
   "id": "c723b7ce-4c03-45f6-9bec-4cdbf9102d58",
   "metadata": {
    "tags": []
   },
   "outputs": [],
   "source": [
    "class Perceptron:\n",
    "    def __init__(self, input_size, output_size):\n",
    "        self.input_size = input_size\n",
    "        self.output_size = output_size\n",
    "        self.weights = np.random.rand(input_size, output_size)\n",
    "        self.bias = np.zeros((1, output_size))\n",
    "\n",
    "    def train(self, X, y, learning_rate=0.01, epochs=100):\n",
    "        for epoch in range(epochs):\n",
    "            print(\"Epoch:\", epoch, \"/\", epochs)\n",
    "            for i in range(X.shape[0]):\n",
    "                input_data = X[i, :].reshape(1, -1)\n",
    "                target = y[i, :].reshape(1, -1)\n",
    "\n",
    "                # Forward pass\n",
    "                output = self.predict(input_data)\n",
    "\n",
    "                # Backward pass (update weights and bias)\n",
    "                self.weights += learning_rate * np.dot(input_data.T, (target - output))\n",
    "                self.bias += learning_rate * (target - output)\n",
    "\n",
    "    def predict(self, X):\n",
    "        return np.dot(X, self.weights) + self.bias"
   ]
  },
  {
   "cell_type": "code",
   "execution_count": 15,
   "id": "8a01a40e-5ce5-43b1-8452-55d63fc2eda4",
   "metadata": {
    "tags": []
   },
   "outputs": [
    {
     "name": "stdout",
     "output_type": "stream",
     "text": [
      "Epoch: 0 / 100\n",
      "Epoch: 1 / 100\n",
      "Epoch: 2 / 100\n",
      "Epoch: 3 / 100\n",
      "Epoch: 4 / 100\n",
      "Epoch: 5 / 100\n",
      "Epoch: 6 / 100\n",
      "Epoch: 7 / 100\n",
      "Epoch: 8 / 100\n",
      "Epoch: 9 / 100\n",
      "Epoch: 10 / 100\n",
      "Epoch: 11 / 100\n",
      "Epoch: 12 / 100\n",
      "Epoch: 13 / 100\n",
      "Epoch: 14 / 100\n",
      "Epoch: 15 / 100\n",
      "Epoch: 16 / 100\n",
      "Epoch: 17 / 100\n",
      "Epoch: 18 / 100\n",
      "Epoch: 19 / 100\n",
      "Epoch: 20 / 100\n",
      "Epoch: 21 / 100\n",
      "Epoch: 22 / 100\n",
      "Epoch: 23 / 100\n",
      "Epoch: 24 / 100\n",
      "Epoch: 25 / 100\n",
      "Epoch: 26 / 100\n",
      "Epoch: 27 / 100\n",
      "Epoch: 28 / 100\n",
      "Epoch: 29 / 100\n",
      "Epoch: 30 / 100\n",
      "Epoch: 31 / 100\n",
      "Epoch: 32 / 100\n",
      "Epoch: 33 / 100\n",
      "Epoch: 34 / 100\n",
      "Epoch: 35 / 100\n",
      "Epoch: 36 / 100\n",
      "Epoch: 37 / 100\n",
      "Epoch: 38 / 100\n",
      "Epoch: 39 / 100\n",
      "Epoch: 40 / 100\n",
      "Epoch: 41 / 100\n",
      "Epoch: 42 / 100\n",
      "Epoch: 43 / 100\n",
      "Epoch: 44 / 100\n",
      "Epoch: 45 / 100\n",
      "Epoch: 46 / 100\n",
      "Epoch: 47 / 100\n",
      "Epoch: 48 / 100\n",
      "Epoch: 49 / 100\n",
      "Epoch: 50 / 100\n",
      "Epoch: 51 / 100\n",
      "Epoch: 52 / 100\n",
      "Epoch: 53 / 100\n",
      "Epoch: 54 / 100\n",
      "Epoch: 55 / 100\n",
      "Epoch: 56 / 100\n",
      "Epoch: 57 / 100\n",
      "Epoch: 58 / 100\n",
      "Epoch: 59 / 100\n",
      "Epoch: 60 / 100\n",
      "Epoch: 61 / 100\n",
      "Epoch: 62 / 100\n",
      "Epoch: 63 / 100\n",
      "Epoch: 64 / 100\n",
      "Epoch: 65 / 100\n",
      "Epoch: 66 / 100\n",
      "Epoch: 67 / 100\n",
      "Epoch: 68 / 100\n",
      "Epoch: 69 / 100\n",
      "Epoch: 70 / 100\n",
      "Epoch: 71 / 100\n",
      "Epoch: 72 / 100\n",
      "Epoch: 73 / 100\n",
      "Epoch: 74 / 100\n",
      "Epoch: 75 / 100\n",
      "Epoch: 76 / 100\n",
      "Epoch: 77 / 100\n",
      "Epoch: 78 / 100\n",
      "Epoch: 79 / 100\n",
      "Epoch: 80 / 100\n",
      "Epoch: 81 / 100\n",
      "Epoch: 82 / 100\n",
      "Epoch: 83 / 100\n",
      "Epoch: 84 / 100\n",
      "Epoch: 85 / 100\n",
      "Epoch: 86 / 100\n",
      "Epoch: 87 / 100\n",
      "Epoch: 88 / 100\n",
      "Epoch: 89 / 100\n",
      "Epoch: 90 / 100\n",
      "Epoch: 91 / 100\n",
      "Epoch: 92 / 100\n",
      "Epoch: 93 / 100\n",
      "Epoch: 94 / 100\n",
      "Epoch: 95 / 100\n",
      "Epoch: 96 / 100\n",
      "Epoch: 97 / 100\n",
      "Epoch: 98 / 100\n",
      "Epoch: 99 / 100\n",
      "Accuracy: 0.8666666666666667\n"
     ]
    }
   ],
   "source": [
    "# Создаем и обучаем перцептрон\n",
    "input_size = X_train.shape[1]\n",
    "output_size = num_classes\n",
    "perceptron = Perceptron(input_size, output_size)\n",
    "perceptron.train(X_train, y_train)\n",
    "\n",
    "# Предсказываем классы для тестовых данных\n",
    "predictions = perceptron.predict(X_test)\n",
    "predicted_classes = np.argmax(predictions, axis=1)\n",
    "\n",
    "# Оцениваем точность модели\n",
    "accuracy = accuracy_score(np.argmax(y_test, axis=1), predicted_classes)\n",
    "print(f'Accuracy: {accuracy}')"
   ]
  }
 ],
 "metadata": {
  "kernelspec": {
   "display_name": "Python 3 (ipykernel)",
   "language": "python",
   "name": "python3"
  },
  "language_info": {
   "codemirror_mode": {
    "name": "ipython",
    "version": 3
   },
   "file_extension": ".py",
   "mimetype": "text/x-python",
   "name": "python",
   "nbconvert_exporter": "python",
   "pygments_lexer": "ipython3",
   "version": "3.10.10"
  }
 },
 "nbformat": 4,
 "nbformat_minor": 5
}
